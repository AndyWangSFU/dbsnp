{
  "cells": [
    {
      "metadata": {
        "trusted": true
      },
      "cell_type": "code",
      "source": "# install biopython on Jupyter server.\nimport sys\n!pip install biopython",
      "execution_count": 2,
      "outputs": [
        {
          "output_type": "stream",
          "text": "Collecting biopython\n\u001b[?25l  Downloading https://files.pythonhosted.org/packages/3c/5a/05c29e3a75269e00e50779b28b60041d9783ee79054ce53a1d193e05deab/biopython-1.73-cp35-cp35m-manylinux1_x86_64.whl (2.2MB)\n\u001b[K    100% |████████████████████████████████| 2.2MB 709kB/s eta 0:00:01\n\u001b[?25hRequirement already satisfied: numpy in /home/nbuser/anaconda3_420/lib/python3.5/site-packages (from biopython) (1.15.4)\nInstalling collected packages: biopython\nSuccessfully installed biopython-1.73\n\u001b[33mYou are using pip version 18.1, however version 19.0 is available.\nYou should consider upgrading via the 'pip install --upgrade pip' command.\u001b[0m\n",
          "name": "stdout"
        }
      ]
    },
    {
      "metadata": {
        "trusted": true
      },
      "cell_type": "code",
      "source": "import time\nfrom Bio import Entrez",
      "execution_count": 37,
      "outputs": []
    },
    {
      "metadata": {
        "trusted": true
      },
      "cell_type": "code",
      "source": "Entrez.email = \"lonphan@nih.gov\" # user email\n# API key from NCBI (https://ncbiinsights.ncbi.nlm.nih.gov/2017/11/02/new-api-keys-for-the-e-utilities/). \n# 10 queries per second a valid API key, otherwise 3 queries per seconds are allowed for 'None'\nEntrez.api_key = None\n\n# entrez query (term) can be build and test online using web query builder (https://www.ncbi.nlm.nih.gov/snp/advanced) \n# esearch handle\neShandle = Entrez.esearch(db=\"snp\",  # search dbSNP\n                          term='LPL[All Fields] AND (pathogenic[Clinical_Significance] AND missense[Function_Class])', # search for gene LPL\n                          usehistory=\"y\", #cache result on server for download in batches\n                          retmax=20 # return 20 RSID max\n                         )\n",
      "execution_count": 38,
      "outputs": []
    },
    {
      "metadata": {
        "trusted": true
      },
      "cell_type": "code",
      "source": "\n# get esearch result\neSresult = Entrez.read(eShandle)",
      "execution_count": 39,
      "outputs": []
    },
    {
      "metadata": {
        "trusted": true
      },
      "cell_type": "code",
      "source": "# review results \nfor k in eSresult:\n    print (k, \":\", eSresult[k])\n    \n#Output: Web environment (&WebEnv) and query key (&query_key) parameters specifying the location on the Entrez history server of the list of UIDs matching the Entrez query\n#https://www.ncbi.nlm.nih.gov/books/NBK25500/#chapter1.Storing_Search_Results\n    ",
      "execution_count": 40,
      "outputs": [
        {
          "output_type": "stream",
          "text": "RetMax : 20\nRetStart : 0\nCount : 30\nWebEnv : NCID_1_241490309_130.14.18.125_9001_1548190373_483640861_0MetA0_S_MegaStore\nTranslationStack : [DictElement({'Term': 'LPL[All Fields]', 'Field': 'All Fields', 'Count': '21205', 'Explode': 'N'}, attributes={}), DictElement({'Term': 'pathogenic[Clinical_Significance]', 'Field': 'Clinical_Significance', 'Count': '50439', 'Explode': 'N'}, attributes={}), DictElement({'Term': 'missense[Function_Class]', 'Field': 'Function_Class', 'Count': '7578995', 'Explode': 'N'}, attributes={}), 'AND', 'GROUP', 'AND']\nQueryTranslation : LPL[All Fields] AND (pathogenic[Clinical_Significance] AND missense[Function_Class])\nQueryKey : 1\nIdList : ['386571803', '386481815', '118204082', '118204080', '118204079', '118204078', '118204077', '118204076', '118204075', '118204073', '118204072', '118204071', '118204069', '118204068', '118204067', '118204064', '118204063', '118204062', '118204061', '118204060']\nTranslationSet : [DictElement({'From': 'LPL[All Fields]', 'To': 'LPL[All Fields]'}, attributes={})]\n",
          "name": "stdout"
        }
      ]
    },
    {
      "metadata": {
        "trusted": true
      },
      "cell_type": "code",
      "source": "# get result RSIDs list 'Idlist'\n# total rs count \nrslist = (eSresult['IdList'])",
      "execution_count": 41,
      "outputs": []
    },
    {
      "metadata": {
        "trusted": true
      },
      "cell_type": "code",
      "source": "# retmax = 20 so print only 20 RSIDs\n# additional results can be retrieved by batches\n# download in batches example http://biopython.org/DIST/docs/tutorial/Tutorial.html#htoc139 or see below.\nfor rs in rslist:\n    print(rs)",
      "execution_count": 42,
      "outputs": [
        {
          "output_type": "stream",
          "text": "386571803\n386481815\n118204082\n118204080\n118204079\n118204078\n118204077\n118204076\n118204075\n118204073\n118204072\n118204071\n118204069\n118204068\n118204067\n118204064\n118204063\n118204062\n118204061\n118204060\n",
          "name": "stdout"
        }
      ]
    },
    {
      "metadata": {
        "trusted": true
      },
      "cell_type": "code",
      "source": "# get the WebEnv session cookie, and the QueryKey:\n\nwebenv = eSresult[\"WebEnv\"]\nquery_key = eSresult[\"QueryKey\"]\ntotal_count = int(eSresult[\"Count\"])\nquery_key = eSresult[\"QueryKey\"]\nretmax = 5 # return 5 uids per batch",
      "execution_count": 43,
      "outputs": []
    },
    {
      "metadata": {
        "trusted": true
      },
      "cell_type": "code",
      "source": "# sample codes adopted from http://biopython.org/DIST/docs/tutorial/Tutorial.html#htoc139.\nfetch_count = 0\nfor start in range(0, total_count, retmax):\n    end = min(total_count, start+retmax)\n    print(\"Going to download record %i to %i\" % (start+1, end))\n    attempt = 0\n    #fetch_count += 1\n    while (attempt < 3): # & (fetch_count < 2):\n        attempt += 1\n        try:\n            fetch_handle = Entrez.efetch(db=\"snp\",\n                                         rettype=\"uilist\", #available types [uilist | docsum (use retmode=xml))\n                                         #retmode=\"xml\",\n                                         retstart=start,\n                                         retmax=retmax,\n                                         webenv=webenv,\n                                         query_key=query_key )\n        except HTTPError as err:\n            if 500 <= err.code <= 599:\n                print(\"Received error from server %s\" % err)\n                print(\"Attempt %i of 3\" % attempt)\n                time.sleep(15)\n            else:\n                raise\n    if (fetch_handle):\n        #print(fetch_handle)            \n        data = fetch_handle.read()\n        print(data)\n        fetch_handle.close()\n\n",
      "execution_count": 44,
      "outputs": [
        {
          "output_type": "stream",
          "text": "Going to download record 1 to 5\n386571803\n386481815\n118204082\n118204080\n118204079\n\nGoing to download record 6 to 10\n118204078\n118204077\n118204076\n118204075\n118204073\n\nGoing to download record 11 to 15\n118204072\n118204071\n118204069\n118204068\n118204067\n\nGoing to download record 16 to 20\n118204064\n118204063\n118204062\n118204061\n118204060\n\nGoing to download record 21 to 25\n118204059\n118204058\n118204057\n118204056\n52818902\n\nGoing to download record 26 to 30\n52806281\n28934893\n17850737\n1801177\n268\n\n",
          "name": "stdout"
        }
      ]
    },
    {
      "metadata": {
        "trusted": true
      },
      "cell_type": "code",
      "source": "",
      "execution_count": null,
      "outputs": []
    }
  ],
  "metadata": {
    "kernelspec": {
      "name": "python3",
      "display_name": "Python 3",
      "language": "python"
    },
    "language_info": {
      "mimetype": "text/x-python",
      "nbconvert_exporter": "python",
      "name": "python",
      "pygments_lexer": "ipython3",
      "version": "3.5.4",
      "file_extension": ".py",
      "codemirror_mode": {
        "version": 3,
        "name": "ipython"
      }
    }
  },
  "nbformat": 4,
  "nbformat_minor": 2
}