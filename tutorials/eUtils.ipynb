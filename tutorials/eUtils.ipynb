{
  "cells": [
    {
      "metadata": {
        "trusted": true
      },
      "cell_type": "code",
      "source": "import sys\n!pip install biopython",
      "execution_count": 40,
      "outputs": [
        {
          "output_type": "stream",
          "text": "Requirement already satisfied: biopython in /home/nbuser/anaconda3_420/lib/python3.5/site-packages (1.73)\nRequirement already satisfied: numpy in /home/nbuser/anaconda3_420/lib/python3.5/site-packages (from biopython) (1.15.4)\n",
          "name": "stdout"
        }
      ]
    },
    {
      "metadata": {
        "trusted": true
      },
      "cell_type": "code",
      "source": "\nfrom Bio import Entrez",
      "execution_count": 41,
      "outputs": []
    },
    {
      "metadata": {
        "trusted": true
      },
      "cell_type": "code",
      "source": "Entrez.email = \"lonphan@nih.gov\" # user email\n# API key from NCBI (https://ncbiinsights.ncbi.nlm.nih.gov/2017/11/02/new-api-keys-for-the-e-utilities/). \n# 10 queries per second a valid API key, otherwise 3 queries per seconds are allowed for 'None'\nEntrez.api_key = None\n\n# entrez query (term) can be build and test online using web query builder (https://www.ncbi.nlm.nih.gov/snp/advanced) \n# esearch handle\neShandle = Entrez.esearch(db=\"snp\",  # search dbSNP\n                          term='LPL', # search for gene LPL\n                          usehistory=\"y\", #cache result on server for download in batches\n                          retmax=20 # return 20 RSID max\n                         )\n",
      "execution_count": 42,
      "outputs": []
    },
    {
      "metadata": {
        "trusted": true
      },
      "cell_type": "code",
      "source": "\n# get esearch result\neSresult = Entrez.read(eShandle)",
      "execution_count": 43,
      "outputs": []
    },
    {
      "metadata": {
        "trusted": true
      },
      "cell_type": "code",
      "source": "# review results \nfor k in eSresult:\n    print (k, \":\", eSresult[k])\n    \n#Output: Web environment (&WebEnv) and query key (&query_key) parameters specifying the location on the Entrez history server of the list of UIDs matching the Entrez query\n#https://www.ncbi.nlm.nih.gov/books/NBK25500/#chapter1.Storing_Search_Results\n    ",
      "execution_count": 44,
      "outputs": [
        {
          "output_type": "stream",
          "text": "Count : 21205\nTranslationStack : [DictElement({'Term': 'LPL[All Fields]', 'Field': 'All Fields', 'Count': '21205', 'Explode': 'N'}, attributes={}), 'GROUP']\nIdList : ['1491562420', '1491463812', '1491435167', '1491412095', '1491387713', '1491361657', '1491332297', '1491304467', '1491179460', '1491137670', '1491081577', '1491070944', '1491033762', '1491015385', '1491004307', '1490990576', '1490964343', '1490911738', '1490880185', '1490867897']\nTranslationSet : [DictElement({'To': 'LPL[All Fields]', 'From': 'LPL'}, attributes={})]\nQueryKey : 1\nRetMax : 20\nRetStart : 0\nWebEnv : NCID_1_194971829_130.14.22.215_9001_1547590318_789256681_0MetA0_S_MegaStore\nQueryTranslation : LPL[All Fields]\n",
          "name": "stdout"
        }
      ]
    },
    {
      "metadata": {
        "trusted": true
      },
      "cell_type": "code",
      "source": "# get result RSIDs list 'Idlist'\n# total rs count \nrslist = (eSresult['IdList'])",
      "execution_count": 45,
      "outputs": []
    },
    {
      "metadata": {
        "trusted": true
      },
      "cell_type": "code",
      "source": "# retmax = 20 so print only 20 RSIDs\n# additional results can be retrieved by batches\n# download in batches example http://biopython.org/DIST/docs/tutorial/Tutorial.html#htoc139\nfor rs in rslist:\n    print(rs)",
      "execution_count": 46,
      "outputs": [
        {
          "output_type": "stream",
          "text": "1491562420\n1491463812\n1491435167\n1491412095\n1491387713\n1491361657\n1491332297\n1491304467\n1491179460\n1491137670\n1491081577\n1491070944\n1491033762\n1491015385\n1491004307\n1490990576\n1490964343\n1490911738\n1490880185\n1490867897\n",
          "name": "stdout"
        }
      ]
    },
    {
      "metadata": {
        "trusted": true
      },
      "cell_type": "code",
      "source": "",
      "execution_count": null,
      "outputs": []
    },
    {
      "metadata": {
        "trusted": true
      },
      "cell_type": "code",
      "source": "",
      "execution_count": null,
      "outputs": []
    }
  ],
  "metadata": {
    "kernelspec": {
      "name": "python3",
      "display_name": "Python 3",
      "language": "python"
    },
    "language_info": {
      "mimetype": "text/x-python",
      "nbconvert_exporter": "python",
      "name": "python",
      "file_extension": ".py",
      "version": "3.5.4",
      "pygments_lexer": "ipython3",
      "codemirror_mode": {
        "version": 3,
        "name": "ipython"
      }
    }
  },
  "nbformat": 4,
  "nbformat_minor": 2
}