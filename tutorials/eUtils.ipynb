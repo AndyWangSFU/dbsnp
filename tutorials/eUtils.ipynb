{
 "cells": [
  {
   "cell_type": "code",
   "execution_count": 1,
   "metadata": {},
   "outputs": [
    {
     "name": "stdout",
     "output_type": "stream",
     "text": [
      "Collecting biopython\n",
      "\u001b[?25l  Downloading https://files.pythonhosted.org/packages/d0/5d/8aedf28541f4936707d78997ebe6d9e25935ae6df6b8f7a045ce294df664/biopython-1.73-cp37-cp37m-manylinux1_x86_64.whl (2.2MB)\n",
      "\u001b[K    100% |████████████████████████████████| 2.2MB 911kB/s eta 0:00:01\n",
      "\u001b[?25hCollecting numpy (from biopython)\n",
      "\u001b[?25l  Downloading https://files.pythonhosted.org/packages/91/e7/6c780e612d245cca62bc3ba8e263038f7c144a96a54f877f3714a0e8427e/numpy-1.16.2-cp37-cp37m-manylinux1_x86_64.whl (17.3MB)\n",
      "\u001b[K    100% |████████████████████████████████| 17.3MB 135kB/s eta 0:00:01\n",
      "\u001b[?25hInstalling collected packages: numpy, biopython\n",
      "Successfully installed biopython-1.73 numpy-1.16.2\n"
     ]
    }
   ],
   "source": [
    "# install biopython on Jupyter server.\n",
    "import sys\n",
    "!pip install biopython"
   ]
  },
  {
   "cell_type": "code",
   "execution_count": 2,
   "metadata": {},
   "outputs": [],
   "source": [
    "import time\n",
    "from Bio import Entrez"
   ]
  },
  {
   "cell_type": "code",
   "execution_count": 20,
   "metadata": {},
   "outputs": [],
   "source": [
    "Entrez.email = \"dbsnp-user@nih.gov\" # provide your user email \n",
    "# RECOMMENDED: apply for API key from NCBI (https://ncbiinsights.ncbi.nlm.nih.gov/2017/11/02/new-api-keys-for-the-e-utilities/). \n",
    "# 10 queries per second with a valid API key, otherwise 3 queries per seconds are allowed for 'None'\n",
    "Entrez.api_key = None\n",
    "\n",
    "# entrez query (term) can be build and test online using web query builder (https://www.ncbi.nlm.nih.gov/snp/advanced) \n",
    "# esearch handle\n",
    "eShandle = Entrez.esearch(db=\"snp\",  # search dbSNP\n",
    "                          term='LPL[All Fields] AND (pathogenic[Clinical_Significance] AND \"missense variant\"[Function_Class])', # search for gene LPL\n",
    "                          usehistory=\"y\", #cache result on server for download in batches\n",
    "                          retmax=20 # return 20 RSID max\n",
    "                         )\n"
   ]
  },
  {
   "cell_type": "code",
   "execution_count": 21,
   "metadata": {},
   "outputs": [],
   "source": [
    "\n",
    "# get esearch result\n",
    "eSresult = Entrez.read(eShandle)"
   ]
  },
  {
   "cell_type": "code",
   "execution_count": 22,
   "metadata": {},
   "outputs": [
    {
     "name": "stdout",
     "output_type": "stream",
     "text": [
      "Count : 31\n",
      "RetMax : 20\n",
      "RetStart : 0\n",
      "QueryKey : 1\n",
      "WebEnv : NCID_1_110799343_130.14.22.76_9001_1554912257_1392080876_0MetA0_S_MegaStore\n",
      "IdList : ['386571803', '386481815', '372668179', '118204082', '118204080', '118204079', '118204078', '118204077', '118204076', '118204075', '118204073', '118204072', '118204071', '118204069', '118204068', '118204067', '118204064', '118204063', '118204062', '118204061']\n",
      "TranslationSet : [DictElement({'From': 'LPL[All Fields]', 'To': 'LPL[All Fields]'}, attributes={})]\n",
      "TranslationStack : [DictElement({'Term': 'LPL[All Fields]', 'Field': 'All Fields', 'Count': '21252', 'Explode': 'N'}, attributes={}), DictElement({'Term': 'pathogenic[Clinical_Significance]', 'Field': 'Clinical_Significance', 'Count': '63619', 'Explode': 'N'}, attributes={}), DictElement({'Term': '\"missense variant\"[Function_Class]', 'Field': 'Function_Class', 'Count': '7678169', 'Explode': 'N'}, attributes={}), 'AND', 'GROUP', 'AND']\n",
      "QueryTranslation : LPL[All Fields] AND (pathogenic[Clinical_Significance] AND \"missense variant\"[Function_Class])\n"
     ]
    }
   ],
   "source": [
    "# review results \n",
    "for k in eSresult:\n",
    "    print (k, \":\", eSresult[k])\n",
    "    \n",
    "#Output: Web environment (&WebEnv) and query key (&query_key) parameters specifying the location on the Entrez history server of the list of UIDs matching the Entrez query\n",
    "#https://www.ncbi.nlm.nih.gov/books/NBK25500/#chapter1.Storing_Search_Results\n",
    "    "
   ]
  },
  {
   "cell_type": "code",
   "execution_count": 23,
   "metadata": {},
   "outputs": [],
   "source": [
    "# get result RSIDs list 'Idlist'\n",
    "# total rs count \n",
    "rslist = (eSresult['IdList'])"
   ]
  },
  {
   "cell_type": "code",
   "execution_count": 28,
   "metadata": {},
   "outputs": [
    {
     "name": "stdout",
     "output_type": "stream",
     "text": [
      "386571803\n",
      "386481815\n",
      "372668179\n",
      "118204082\n",
      "118204080\n",
      "118204079\n",
      "118204078\n",
      "118204077\n",
      "118204076\n",
      "118204075\n",
      "118204073\n",
      "118204072\n",
      "118204071\n",
      "118204069\n",
      "118204068\n",
      "118204067\n",
      "118204064\n",
      "118204063\n",
      "118204062\n",
      "118204061\n"
     ]
    }
   ],
   "source": [
    "# retmax = 20 so print only 20 RSIDs\n",
    "# additional results can be retrieved by batches\n",
    "# download in batches example http://biopython.org/DIST/docs/tutorial/Tutorial.html#htoc139 or see below.\n",
    "for rs in rslist:\n",
    "    print(rs)"
   ]
  },
  {
   "cell_type": "code",
   "execution_count": 31,
   "metadata": {},
   "outputs": [],
   "source": [
    "# get the WebEnv session cookie, and the QueryKey:\n",
    "\n",
    "webenv = eSresult[\"WebEnv\"]\n",
    "query_key = eSresult[\"QueryKey\"]\n",
    "total_count = int(eSresult[\"Count\"])\n",
    "query_key = eSresult[\"QueryKey\"]\n",
    "retmax = 20 # return 5 uids per batch"
   ]
  },
  {
   "cell_type": "code",
   "execution_count": 32,
   "metadata": {},
   "outputs": [
    {
     "name": "stdout",
     "output_type": "stream",
     "text": [
      "Going to download record 1 to 20\n",
      "386571803\n",
      "386481815\n",
      "372668179\n",
      "118204082\n",
      "118204080\n",
      "118204079\n",
      "118204078\n",
      "118204077\n",
      "118204076\n",
      "118204075\n",
      "118204073\n",
      "118204072\n",
      "118204071\n",
      "118204069\n",
      "118204068\n",
      "118204067\n",
      "118204064\n",
      "118204063\n",
      "118204062\n",
      "118204061\n",
      "\n",
      "Going to download record 21 to 31\n",
      "118204060\n",
      "118204059\n",
      "118204058\n",
      "118204057\n",
      "118204056\n",
      "52818902\n",
      "52806281\n",
      "28934893\n",
      "17850737\n",
      "1801177\n",
      "268\n",
      "\n"
     ]
    }
   ],
   "source": [
    "# sample codes adopted with modifications from http://biopython.org/DIST/docs/tutorial/Tutorial.html#htoc139.\n",
    "fetch_count = 0\n",
    "for start in range(0, total_count, retmax):\n",
    "    end = min(total_count, start+retmax)\n",
    "    print(\"Going to download record %i to %i\" % (start+1, end))\n",
    "    attempt = 0\n",
    "    #fetch_count += 1\n",
    "    while (attempt < 3):\n",
    "        attempt += 1\n",
    "        try:\n",
    "            fetch_handle = Entrez.efetch(db=\"snp\",\n",
    "                                         rettype=\"uilist\", #available types [uilist | docsum (use retmode=xml))\n",
    "                                         #retmode=\"xml\",\n",
    "                                         retstart=start,\n",
    "                                         retmax=retmax,\n",
    "                                         webenv=webenv,\n",
    "                                         query_key=query_key )\n",
    "        except HTTPError as err:\n",
    "            if 500 <= err.code <= 599:\n",
    "                print(\"Received error from server %s\" % err)\n",
    "                print(\"Attempt %i of 3\" % attempt)\n",
    "                time.sleep(15)\n",
    "            else:\n",
    "                raise\n",
    "    if (fetch_handle):\n",
    "        #print(fetch_handle)            \n",
    "        data = fetch_handle.read()\n",
    "        print(data)\n",
    "        fetch_handle.close()\n",
    "\n"
   ]
  },
  {
   "cell_type": "code",
   "execution_count": null,
   "metadata": {},
   "outputs": [],
   "source": []
  }
 ],
 "metadata": {
  "kernelspec": {
   "display_name": "Python 3",
   "language": "python",
   "name": "python3"
  },
  "language_info": {
   "codemirror_mode": {
    "name": "ipython",
    "version": 3
   },
   "file_extension": ".py",
   "mimetype": "text/x-python",
   "name": "python",
   "nbconvert_exporter": "python",
   "pygments_lexer": "ipython3",
   "version": "3.7.2"
  }
 },
 "nbformat": 4,
 "nbformat_minor": 2
}
