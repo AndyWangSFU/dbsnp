{
  "cells": [
    {
      "metadata": {
        "trusted": true
      },
      "cell_type": "code",
      "source": "import os, sys\nsys.path.append(os.path.join(\"/home/nbuser/library/lib/python\"))\nfrom navs import Variation",
      "execution_count": 3,
      "outputs": []
    },
    {
      "metadata": {
        "trusted": true
      },
      "cell_type": "code",
      "source": "",
      "execution_count": 20,
      "outputs": []
    },
    {
      "metadata": {
        "trusted": true
      },
      "cell_type": "code",
      "source": "#find/convert to RS using HGVS\ntest_cases = [\n    'NC_000008.10:g.19813529A>G', #genomic GRCh37\n    'NC_000008.11:g.19956018A>G', #genomic GRCh38 \n    'NG_008855.1:g.21948A>G', #RefSeqGene NG\n    'NM_000237.2:c.953A>G', #NM transcript\n    'NC_000008.11:g.19956024T>G', #genomic GRCh38; novel variant not in dbSNP example\n]\nfor hgvs in test_cases:\n    v = Variation(hgvs)\n    rslist = \",\".join([str(rsid) for rsid in v.asRsidList()])\n    if rslist:\n        print(\"\\t\".join([hgvs, rslist]))\n    else:\n        print(\"\\t\".join([hgvs, \"Not in dbSNP\"]))",
      "execution_count": 22,
      "outputs": [
        {
          "output_type": "stream",
          "text": "NC_000008.10:g.19813529A>G\t268\nNC_000008.11:g.19956018A>G\t268\nNG_008855.1:g.21948A>G\t268\nNM_000237.2:c.953A>G\t268\nNC_000008.11:g.19956024T>G\tNot in dbSNP\n",
          "name": "stdout"
        }
      ]
    },
    {
      "metadata": {
        "trusted": true
      },
      "cell_type": "code",
      "source": "#Normalize variants \ncolwidth = 30\ntest_cases = [\n    'NM_000237.2:c.959T>G', #NM transcript\n    'NC_000008.11:g.19956024T>G', #genomic GRCh38; novel variant not in dbSNP example\n]\nprint(\"\\t\".join([\"HGVS\".ljust(colwidth), \"SPDI\".ljust(colwidth)]))\nprint(\"\\t\".join([\"=========================\".ljust(colwidth), \"=========================\".ljust(colwidth)]))\nfor hgvs in test_cases:\n    v = Variation(hgvs)\n    for spdi in v.asSpdiList():\n        print(\"\\t\".join([hgvs.ljust(colwidth), spdi.ljust(colwidth)]))\n",
      "execution_count": 27,
      "outputs": [
        {
          "output_type": "stream",
          "text": "HGVS                          \tSPDI                          \n=========================     \t=========================     \nNM_000237.2:c.959T>G          \tNM_000237.2:1328:T:G          \nNM_000237.2:c.959T>G          \tNC_000008.11:19956023:T:G     \nNC_000008.11:g.19956024T>G    \tNC_000008.11:19956023:T:G     \n",
          "name": "stdout"
        }
      ]
    },
    {
      "metadata": {
        "trusted": true
      },
      "cell_type": "code",
      "source": "",
      "execution_count": null,
      "outputs": []
    }
  ],
  "metadata": {
    "kernelspec": {
      "name": "python3",
      "display_name": "Python 3",
      "language": "python"
    },
    "language_info": {
      "mimetype": "text/x-python",
      "nbconvert_exporter": "python",
      "name": "python",
      "pygments_lexer": "ipython3",
      "version": "3.5.4",
      "file_extension": ".py",
      "codemirror_mode": {
        "version": 3,
        "name": "ipython"
      }
    }
  },
  "nbformat": 4,
  "nbformat_minor": 1
}