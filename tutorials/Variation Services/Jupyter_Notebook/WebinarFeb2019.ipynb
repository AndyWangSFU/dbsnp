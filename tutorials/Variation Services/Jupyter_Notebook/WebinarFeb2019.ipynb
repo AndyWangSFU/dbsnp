{
  "cells": [
    {
      "metadata": {
        "trusted": true
      },
      "cell_type": "code",
      "source": "import os, sys\nsys.path.append(os.path.join(\"../../../lib/python\")) \nfrom navs import Variation",
      "execution_count": 30,
      "outputs": []
    },
    {
      "metadata": {
        "trusted": true
      },
      "cell_type": "code",
      "source": "# Convert between different notations (dbSNP rs, SPDI, HGVS, anb VCF) and retrieve dbSNP JSON object\ntest_cases = [\n    'rs328',   #dbSNP RefSNP(rs) as string 'rs328' or integer (328)\n    \"NC_000007.14\\t8644051\\t.\\tC\\tG,T\\t.\\t.\\tINFO\", #VCF \n    'NC_000007.14:g.8644051C>G', #HGVS\n    'NC_000008.10:19813528:1:G' #SPDI\n]\n\nfor tc in test_cases:\n    print()\n    print('Input: ' + str(tc))\n    print('-------------------------------------------')\n\n    v = Variation(tc)\n    print(\"RSID:\\n\" + \"\\n\".join([str(rsid) for rsid in v.asRsidList()]))\n    print()\n    #print(v)\n    print(\"SPDI:\\n\" + \"\\n\".join(v.asSpdiList()))\n    print()\n    print(\"HGVS:\\n\" + \"\\n\".join(v.asHgvsList()))\n    print()\n    print(\"VCF:\\n\" + \"\\n\".join(v.asVcfList()))\n    print()\n    rsAsJson = v.asJson()\n    if rsAsJson:\n        print(\"JSON:\\n\",rsAsJson[0:400] + '...')\n    else:\n        print('<No JSON>')\n    print()",
      "execution_count": 33,
      "outputs": [
        {
          "output_type": "stream",
          "text": "\nInput: rs328\n-------------------------------------------\nRSID:\n328\n\nSPDI:\nNC_000008.11:19962212:C:G\n\nHGVS:\nNC_000008.11:g.19962213C>G\n\nVCF:\nNC_000008.11\t19962213\trs328\tC\tG\t.\t.\t.\n\nJSON:\n {\"refsnp_id\":\"328\",\"create_date\":\"2000-09-19T17:02Z\",\"last_update_date\":\"2018-10-12T12:02Z\",\"last_update_build_id\":\"152\",\"dbsnp1_merges\":[{\"merged_rsid\":\"3735962\",\"revision\":\"108\",\"merge_date\":\"2002-10-9T00:18Z\"},{\"merged_rsid\":\"17482566\",\"revision\":\"123\",\"merge_date\":\"2004-10-8T05:17Z\"},{\"merged_rsid\":\"52834251\",\"revision\":\"128\",\"merge_date\":\"2007-09-21T16:13Z\"}],\"citations\":[1731801,1907278,2216...\n\n\nInput: NC_000007.14\t8644051\t.\tC\tG,T\t.\t.\tINFO\n-------------------------------------------\nRSID:\n338\n\nSPDI:\nNC_000007.14:8644050:C:G\nNC_000007.14:8644050:C:T\n\nHGVS:\nNC_000007.14:g.8644051C>G\nNC_000007.14:g.8644051C>T\n\nVCF:\nNC_000007.14\t8644051\trs338\tC\tG,T\t.\t.\tINFO\n\nJSON:\n {\"refsnp_id\":\"338\",\"create_date\":\"2000-09-19T17:02Z\",\"last_update_date\":\"2018-10-12T10:27Z\",\"last_update_build_id\":\"152\",\"dbsnp1_merges\":[{\"merged_rsid\":\"2107469\",\"revision\":\"98\",\"merge_date\":\"2001-08-15T11:16Z\"},{\"merged_rsid\":\"10357600\",\"revision\":\"120\",\"merge_date\":\"2004-02-27T15:13Z\"},{\"merged_rsid\":\"57227614\",\"revision\":\"130\",\"merge_date\":\"2008-05-23T19:28Z\"}],\"citations\":[],\"lost_obs_movemen...\n\n\nInput: NC_000007.14:g.8644051C>G\n-------------------------------------------\nRSID:\n338\n\nSPDI:\nNC_000007.14:8644050:C:G\nNC_000007.14:8644050:C:T\n\nHGVS:\nNC_000007.14:g.8644051C>G\nNC_000007.14:g.8644051C>T\n\nVCF:\nNC_000007.14\t8644051\trs338\tC\tG,T\t.\t.\t.\n\nJSON:\n {\"refsnp_id\":\"338\",\"create_date\":\"2000-09-19T17:02Z\",\"last_update_date\":\"2018-10-12T10:27Z\",\"last_update_build_id\":\"152\",\"dbsnp1_merges\":[{\"merged_rsid\":\"2107469\",\"revision\":\"98\",\"merge_date\":\"2001-08-15T11:16Z\"},{\"merged_rsid\":\"10357600\",\"revision\":\"120\",\"merge_date\":\"2004-02-27T15:13Z\"},{\"merged_rsid\":\"57227614\",\"revision\":\"130\",\"merge_date\":\"2008-05-23T19:28Z\"}],\"citations\":[],\"lost_obs_movemen...\n\n\nInput: NC_000008.10:19813528:1:G\n-------------------------------------------\nRSID:\n268\n\nSPDI:\nNC_000008.10:19813528:1:G\nNC_000008.10:19813528:A:G\nNC_000008.11:19956017:A:G\n\nHGVS:\nNC_000008.10:g.19813529A>G\nNC_000008.11:g.19956018A>G\n\nVCF:\nNC_000008.11\t19956018\trs268\tA\tG\t.\t.\t.\n\nJSON:\n {\"refsnp_id\":\"268\",\"create_date\":\"2000-09-19T17:02Z\",\"last_update_date\":\"2018-10-12T12:02Z\",\"last_update_build_id\":\"152\",\"dbsnp1_merges\":[{\"merged_rsid\":\"17850737\",\"revision\":\"126\",\"merge_date\":\"2006-03-11T06:16Z\"},{\"merged_rsid\":\"52818902\",\"revision\":\"128\",\"merge_date\":\"2007-09-21T16:03Z\"},{\"merged_rsid\":\"386571803\",\"revision\":\"136\",\"merge_date\":\"2014-08-6T12:19Z\"}],\"citations\":[8541837,17357073,...\n\n",
          "name": "stdout"
        }
      ]
    },
    {
      "metadata": {
        "trusted": true
      },
      "cell_type": "code",
      "source": "#find/convert to RS using HGVS reported on different sequence types (NC, NG, and NM)\ntest_cases = [\n    'NC_000008.10:g.19813529A>G', #genomic GRCh37\n    'NC_000008.11:g.19956018A>G', #genomic GRCh38 \n    'NG_008855.1:g.21948A>G', #RefSeqGene NG\n    'NM_000237.2:c.953A>G', #NM transcript\n    'NC_000008.11:g.19956024T>G', #genomic GRCh38; novel variant not in dbSNP example\n]\n\nfor hgvs in test_cases:\n    v = Variation(hgvs)\n    rslist = \",\".join([str(rsid) for rsid in v.asRsidList()])\n    if rslist:\n        print(\"\\t\".join([hgvs, rslist]))\n    else:\n        print(\"\\t\".join([hgvs, \"Not in dbSNP\"]))",
      "execution_count": 22,
      "outputs": [
        {
          "output_type": "stream",
          "text": "NC_000008.10:g.19813529A>G\t268\nNC_000008.11:g.19956018A>G\t268\nNG_008855.1:g.21948A>G\t268\nNM_000237.2:c.953A>G\t268\nNC_000008.11:g.19956024T>G\tNot in dbSNP\n",
          "name": "stdout"
        }
      ]
    },
    {
      "metadata": {
        "trusted": true
      },
      "cell_type": "code",
      "source": "#Normalize novel variants using SPDI notation\n\ntest_cases = [\n    'NM_000237.2:c.959T>G', #NM transcript\n    'NC_000008.11:g.19956024T>G', #genomic GRCh38; novel variant not in dbSNP example\n    'NC_000017.11:g.43054117delA',\n    'NC_000017.11:g.43054118delA',  \n]\n\n#print table header\ncolwidth = 35\nprint(\"\\t\".join([\"HGVS\".ljust(colwidth), \"SPDI\".ljust(colwidth), \"RS\".ljust(colwidth)]))\nprint(\"\\t\".join([\"=========================\".ljust(colwidth), \"=========================\".ljust(colwidth), \"===========\".ljust(colwidth)]))\n\nfor hgvs in test_cases:\n    v = Variation(hgvs)\n    rslist = \",\".join([str(rsid) for rsid in v.asRsidList()])\n    for spdi in v.asSpdiList():\n        print(\"\\t\".join([hgvs.ljust(colwidth), spdi.ljust(colwidth), rslist.ljust(colwidth)]))\n",
      "execution_count": 28,
      "outputs": [
        {
          "output_type": "stream",
          "text": "HGVS                               \tSPDI                               \tRS                                 \n=========================          \t=========================          \t===========                        \nNM_000237.2:c.959T>G               \tNM_000237.2:1328:T:G               \t                                   \nNM_000237.2:c.959T>G               \tNC_000008.11:19956023:T:G          \t                                   \nNC_000008.11:g.19956024T>G         \tNC_000008.11:19956023:T:G          \t                                   \nNC_000017.11:g.43054117delA        \tNC_000017.11:43054112:AAAAAA:AAAAA \t1200087052                         \nNC_000017.11:g.43054118delA        \tNC_000017.11:43054112:AAAAAA:AAAAA \t1200087052                         \n",
          "name": "stdout"
        }
      ]
    },
    {
      "metadata": {
        "trusted": true
      },
      "cell_type": "code",
      "source": "",
      "execution_count": null,
      "outputs": []
    }
  ],
  "metadata": {
    "kernelspec": {
      "name": "python3",
      "display_name": "Python 3",
      "language": "python"
    },
    "language_info": {
      "mimetype": "text/x-python",
      "nbconvert_exporter": "python",
      "name": "python",
      "pygments_lexer": "ipython3",
      "version": "3.5.4",
      "file_extension": ".py",
      "codemirror_mode": {
        "version": 3,
        "name": "ipython"
      }
    }
  },
  "nbformat": 4,
  "nbformat_minor": 1
}
