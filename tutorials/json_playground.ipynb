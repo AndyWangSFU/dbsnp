{
  "cells": [
    {
      "metadata": {
        "trusted": true
      },
      "cell_type": "code",
      "source": "import json",
      "execution_count": 1,
      "outputs": []
    },
    {
      "metadata": {
        "trusted": true
      },
      "cell_type": "code",
      "source": "from snp2_json import *",
      "execution_count": 2,
      "outputs": []
    },
    {
      "metadata": {
        "trusted": true
      },
      "cell_type": "code",
      "source": "\ndriver = Snp2Json()",
      "execution_count": 3,
      "outputs": []
    },
    {
      "metadata": {
        "trusted": true
      },
      "cell_type": "code",
      "source": "rs = 328",
      "execution_count": 4,
      "outputs": []
    },
    {
      "metadata": {
        "trusted": true
      },
      "cell_type": "code",
      "source": "rs_obj = driver.get_json(rs)",
      "execution_count": 5,
      "outputs": []
    },
    {
      "metadata": {
        "trusted": true
      },
      "cell_type": "code",
      "source": "driver.get_ss_info(rs_obj)",
      "execution_count": 6,
      "outputs": [
        {
          "output_type": "stream",
          "text": "rs\thandle\ttype\tss or RCV\n328\tDEBNICK\tsubsnp\tss329\n328\tWIAF-CSNP\tsubsnp\tss3173350\n328\tYUSUKE\tsubsnp\tss4921960\n328\tBCM_SSAHASNP\tsubsnp\tss10467174\n328\tIMCJ-GDT\tsubsnp\tss16343000\n328\tPERLEGEN\tsubsnp\tss24648907\n328\tAPPLERA_GI\tsubsnp\tss48420139\n328\tPERLEGEN\tsubsnp\tss69043156\n328\tSI_EXO\tsubsnp\tss71648660\n328\tAFFY\tsubsnp\tss74808885\n328\tPAGE_STUDY\tsubsnp\tss181341878\n328\tPAGE_STUDY\tsubsnp\tss181834342\n328\tPAGE_STUDY\tsubsnp\tss181835906\n328\tPAGE_STUDY\tsubsnp\tss182258758\n328\tBUSHMAN\tsubsnp\tss198888197\n328\t1000GENOMES\tsubsnp\tss217321427\n328\t1000GENOMES\tsubsnp\tss217397633\n328\t1000GENOMES\tsubsnp\tss217399174\n328\t1000GENOMES\tsubsnp\tss217407233\n328\t1000GENOMES\tsubsnp\tss217418296\n328\t1000GENOMES\tsubsnp\tss217419027\n328\t1000GENOMES\tsubsnp\tss217422429\n328\t1000GENOMES\tsubsnp\tss223585670\n328\t1000GENOMES\tsubsnp\tss234352504\n328\t1000GENOMES\tsubsnp\tss241227319\n328\tOMICIA\tsubsnp\tss244238714\n328\tILLUMINA\tsubsnp\tss244294501\n328\tOMIM-CURATED-RECORDS\tsubsnp\tss252841585\n328\tBL\tsubsnp\tss254171515\n328\tGMI\tsubsnp\tss279724045\n328\tNHLBI-ESP\tsubsnp\tss342253806\n328\tILLUMINA\tsubsnp\tss410878568\n328\tILLUMINA\tsubsnp\tss484193264\n328\tILLUMINA\tsubsnp\tss485584695\n328\t1000GENOMES\tsubsnp\tss490960926\n328\tEXOME_CHIP\tsubsnp\tss491410902\n328\tCLINSEQ_SNP\tsubsnp\tss491921994\n328\tILLUMINA\tsubsnp\tss536381272\n328\tSSMP\tsubsnp\tss655035593\n328\tILLUMINA\tsubsnp\tss779528090\n328\tILLUMINA\tsubsnp\tss780867941\n328\tILLUMINA\tsubsnp\tss782542564\n328\tILLUMINA\tsubsnp\tss783552875\n328\tILLUMINA\tsubsnp\tss834998628\n328\tEVA-GONL\tsubsnp\tss985272683\n328\tJMKIDD_LAB\tsubsnp\tss1067495952\n328\tJMKIDD_LAB\tsubsnp\tss1075340057\n328\t1000GENOMES\tsubsnp\tss1328915353\n328\tHAMMER_LAB\tsubsnp\tss1397520212\n328\tEVA_GENOME_DK\tsubsnp\tss1582593788\n328\tEVA_FINRISK\tsubsnp\tss1584057350\n328\tEVA_DECODE\tsubsnp\tss1594862344\n328\tEVA_UK10K_ALSPAC\tsubsnp\tss1620133815\n328\tEVA_UK10K_TWINSUK\tsubsnp\tss1663127848\n328\tEVA_EXAC\tsubsnp\tss1689111743\n328\tEVA_MGP\tsubsnp\tss1711194717\n328\tILLUMINA\tsubsnp\tss1752723251\n328\tILLUMINA\tsubsnp\tss1917826331\n328\tWEILL_CORNELL_DGM\tsubsnp\tss1928562440\n328\tILLUMINA\tsubsnp\tss1946231552\n328\tILLUMINA\tsubsnp\tss1959093919\n328\tJJLAB\tsubsnp\tss2024980591\n328\tILLUMINA\tsubsnp\tss2094987020\n328\tILLUMINA\tsubsnp\tss2095209247\n328\tUSC_VALOUEV\tsubsnp\tss2153202052\n328\tHUMAN_LONGEVITY\tsubsnp\tss2301288406\n328\tTOPMED\tsubsnp\tss2470946277\n328\tILLUMINA\tsubsnp\tss2634720469\n328\tILLUMINA\tsubsnp\tss2634720470\n328\tILLUMINA\tsubsnp\tss2634720471\n328\tGRF\tsubsnp\tss2708962560\n328\tGNOMAD\tsubsnp\tss2737022600\n328\tGNOMAD\tsubsnp\tss2748007794\n328\tGNOMAD\tsubsnp\tss2864093419\n328\tAFFY\tsubsnp\tss2985433067\n328\tAFFY\tsubsnp\tss2986076219\n328\tSWEGEN\tsubsnp\tss3002804512\n328\tILLUMINA\tsubsnp\tss3022826115\n328\tBIOINF_KMB_FNS_UNIBA\tsubsnp\tss3026281130\n328\tCSHL\tsubsnp\tss3348082059\n328\tTOPMED\tsubsnp\tss3555884012\n328\tILLUMINA\tsubsnp\tss3625947311\n328\tILLUMINA\tsubsnp\tss3630013668\n328\tILLUMINA\tsubsnp\tss3630013669\n328\tILLUMINA\tsubsnp\tss3632621006\n328\tILLUMINA\tsubsnp\tss3635162189\n328\tILLUMINA\tsubsnp\tss3640869479\n328\tILLUMINA\tsubsnp\tss3644964726\n328\tOMUKHERJEE_ADBS\tsubsnp\tss3646373026\n328\tILLUMINA\tsubsnp\tss3653367072\n328\tILLUMINA\tsubsnp\tss3653367073\n328\tILLUMINA\tsubsnp\tss3654194881\n328\t1000Genomes\tfrequency\t1000Genomes.1:41010104\n328\tALSPAC\tfrequency\tALSPAC.1:22797219\n328\tEstonian\tfrequency\tEstonian.1:16222805\n328\tExAC\tfrequency\tExAC.1:9205345\n328\tGnomAD\tfrequency\tGnomAD.1:204721173\n328\tGnomAD_exomes\tfrequency\tGnomAD_exomes.1:4914522\n328\tTOPMED\tfrequency\tTOPMED.2:384683375\n328\tTWINSUK\tfrequency\tTWINSUK.1:22797219\n328\t\tclinvar\tRCV000001598.2\n328\t\tclinvar\tRCV000385586.1\n",
          "name": "stdout"
        }
      ]
    },
    {
      "metadata": {
        "trusted": true
      },
      "cell_type": "code",
      "source": "rs = {}",
      "execution_count": 7,
      "outputs": []
    },
    {
      "metadata": {
        "trusted": true
      },
      "cell_type": "code",
      "source": "driver.printAllele_annotations(rs_obj['primary_snapshot_data'])",
      "execution_count": 8,
      "outputs": [
        {
          "output_type": "stream",
          "text": "benign\nlikely-benign\n",
          "name": "stdout"
        }
      ]
    },
    {
      "metadata": {
        "trusted": true
      },
      "cell_type": "code",
      "source": "driver.getPlacements(rs_obj['primary_snapshot_data']['placements_with_allele'], rs)",
      "execution_count": 10,
      "outputs": []
    },
    {
      "metadata": {
        "trusted": true
      },
      "cell_type": "code",
      "source": "print(rs)",
      "execution_count": 11,
      "outputs": [
        {
          "output_type": "stream",
          "text": "{'alleles': [{'allele': 'C'}, {'allele': 'G'}], 'seq_id': 'NC_000008.11', 'position': 19962212}\n",
          "name": "stdout"
        }
      ]
    },
    {
      "metadata": {
        "trusted": true
      },
      "cell_type": "code",
      "source": "driver.getRefSeqAnnot(rs_obj['primary_snapshot_data']['allele_annotations'], rs)",
      "execution_count": 12,
      "outputs": []
    },
    {
      "metadata": {
        "trusted": true
      },
      "cell_type": "code",
      "source": "print(rs)",
      "execution_count": 13,
      "outputs": [
        {
          "output_type": "stream",
          "text": "{'alleles': [{'allele': 'C', 'refseq_annot': {'name': 'lipoprotein lipase', 'id': 4023, 'locus': 'LPL', 'is_pseudo': False, 'orientation': 'plus', 'sequence_ontology': [], 'rnas': [{'id': 'NM_000237.2', 'codon_aligned_transcript_change': {'seq_id': 'NM_000237.2', 'position': 1789, 'deleted_sequence': 'TCA', 'inserted_sequence': 'TCA'}, 'sequence_ontology': [{'name': 'coding_sequence_variant', 'accession': 'SO:0001580'}], 'product_id': 'NP_000228.1', 'protein': {'variant': {'spdi': {'seq_id': 'NP_000228.1', 'position': 473, 'deleted_sequence': 'S', 'inserted_sequence': 'S'}}, 'sequence_ontology': []}}]}}, {'allele': 'G', 'refseq_annot': {'name': 'lipoprotein lipase', 'id': 4023, 'locus': 'LPL', 'is_pseudo': False, 'orientation': 'plus', 'sequence_ontology': [], 'rnas': [{'id': 'NM_000237.2', 'codon_aligned_transcript_change': {'seq_id': 'NM_000237.2', 'position': 1789, 'deleted_sequence': 'TCA', 'inserted_sequence': 'TGA'}, 'sequence_ontology': [{'name': 'coding_sequence_variant', 'accession': 'SO:0001580'}], 'product_id': 'NP_000228.1', 'protein': {'variant': {'spdi': {'seq_id': 'NP_000228.1', 'position': 473, 'deleted_sequence': 'S', 'inserted_sequence': '*'}}, 'sequence_ontology': [{'name': 'stop_gained', 'accession': 'SO:0001587'}]}}]}}], 'seq_id': 'NC_000008.11', 'position': 19962212}\n",
          "name": "stdout"
        }
      ]
    },
    {
      "metadata": {
        "trusted": true
      },
      "cell_type": "code",
      "source": "driver.get_allele_info(rs_obj)",
      "execution_count": 14,
      "outputs": [
        {
          "output_type": "stream",
          "text": "328\tC\tlipoprotein lipase\tLPL\tNM_000237.2\tTCA\t1789\tTCA\tNP_000228.1\tS\t473\tS\n328\tG\tlipoprotein lipase\tLPL\tNM_000237.2\tTCA\t1789\tTCA\tNP_000228.1\tS\t473\tS\n",
          "name": "stdout"
        }
      ]
    },
    {
      "metadata": {
        "trusted": true
      },
      "cell_type": "code",
      "source": "",
      "execution_count": null,
      "outputs": []
    }
  ],
  "metadata": {
    "kernelspec": {
      "name": "python36",
      "display_name": "Python 3.6",
      "language": "python"
    },
    "language_info": {
      "mimetype": "text/x-python",
      "nbconvert_exporter": "python",
      "name": "python",
      "pygments_lexer": "ipython3",
      "version": "3.6.6",
      "file_extension": ".py",
      "codemirror_mode": {
        "version": 3,
        "name": "ipython"
      }
    }
  },
  "nbformat": 4,
  "nbformat_minor": 2
}