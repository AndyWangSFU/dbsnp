{
 "cells": [
  {
   "cell_type": "markdown",
   "metadata": {},
   "source": [
    "# Retrieving and Graphing SNP Minor Allele Frequencies\n",
    "\n",
    "1. Using Entrez Programming Utilities (E-utilities) to\n",
    "\n",
    "   1. Search for genes of interest\n",
    "   2. Search for a filtered set of SNPs on specific genes\n",
    "   3. Retrieve MAF data for specific SNPs\n",
    "\n",
    "2. Using `matplotlib` Python module to graph MAF from available studies\n",
    "\n",
    "---\n",
    "\n",
    "#### Prepare environment: import useful modules, define constants:"
   ]
  },
  {
   "cell_type": "code",
   "execution_count": 1,
   "metadata": {},
   "outputs": [],
   "source": [
    "import requests\n",
    "import xml.etree.ElementTree as xtree\n",
    "import ipywidgets as wgt\n",
    "from urllib.parse import quote\n",
    "import re\n",
    "\n",
    "# When set to True, produce additional diagnostic output\n",
    "verbose = False\n",
    "\n",
    "# Base url for E-utilities\n",
    "eutils_url = 'https://eutils.ncbi.nlm.nih.gov/entrez/eutils'"
   ]
  },
  {
   "cell_type": "markdown",
   "metadata": {},
   "source": [
    "#### Create a text area for entering gene search terms; use \"acmg\" as an example:"
   ]
  },
  {
   "cell_type": "code",
   "execution_count": 2,
   "metadata": {},
   "outputs": [
    {
     "data": {
      "application/vnd.jupyter.widget-view+json": {
       "model_id": "c7dba949c21e49378b29bfda586a3d04",
       "version_major": 2,
       "version_minor": 0
      },
      "text/plain": [
       "Textarea(value='acmg', description='Enter a gene search term:', placeholder='Gene search term', style=Descript…"
      ]
     },
     "metadata": {},
     "output_type": "display_data"
    }
   ],
   "source": [
    "search_term_input1 = wgt.Textarea(\n",
    "    value='acmg',\n",
    "    placeholder='Gene search term',\n",
    "    description='Enter a gene search term:',\n",
    "    style={'description_width': 'initial'},\n",
    "    disabled=False\n",
    ")\n",
    "\n",
    "display( search_term_input1 )"
   ]
  },
  {
   "cell_type": "markdown",
   "metadata": {},
   "source": [
    "#### Get the gene search term, use it to search the NCBI Gene database with eSearch:"
   ]
  },
  {
   "cell_type": "code",
   "execution_count": 3,
   "metadata": {
    "scrolled": true
   },
   "outputs": [],
   "source": [
    "term1 = quote( search_term_input1.value )\n",
    "srch1 = requests.get( '{}/esearch.fcgi?db=gene&term={}&usehistory=y'.format( eutils_url, term1 ) )\n",
    "\n",
    "# Optional\n",
    "if verbose:\n",
    "    print( srch1.text )"
   ]
  },
  {
   "cell_type": "markdown",
   "metadata": {},
   "source": [
    "#### Parse the eSearch response to get the number of genes found and the location of search results:"
   ]
  },
  {
   "cell_type": "code",
   "execution_count": 4,
   "metadata": {},
   "outputs": [
    {
     "name": "stdout",
     "output_type": "stream",
     "text": [
      "Number of genes found: 60\n"
     ]
    }
   ],
   "source": [
    "xr1 = xtree.fromstring( srch1.text )\n",
    "web_env1 = xr1.find( './WebEnv' ).text\n",
    "qry_key1 = xr1.find( './QueryKey' ).text\n",
    "count1 = xr1.find( './Count' ).text\n",
    "print( 'Number of genes found: {}'.format( count1 ) )\n",
    "\n",
    "# Optional\n",
    "if verbose:\n",
    "    print( 'WebEnv:   {}'.format( web_env1 ) )\n",
    "    print( 'QueryKey: {}'.format( qry_key1 ) )\n"
   ]
  },
  {
   "cell_type": "markdown",
   "metadata": {},
   "source": [
    "#### Using eSummary get docsums for the genes in the result set, parse the docsums for gene names, descriptions, and UIDs:"
   ]
  },
  {
   "cell_type": "code",
   "execution_count": 5,
   "metadata": {},
   "outputs": [],
   "source": [
    "# Get the first 500 gene docsums\n",
    "sumr1 = requests.get( '{}/esummary.fcgi?db=gene&query_key={}&WebEnv={}&retmax=500'.format( eutils_url, qry_key1, web_env1 ) )\n",
    "xds1 = xtree.fromstring( sumr1.text ).findall( './/DocumentSummary' )\n",
    "\n",
    "# Optional\n",
    "if verbose:\n",
    "    print( 'Gene DocSums fetched: {}'.format( len( xds1 ) ) )\n",
    "\n",
    "# Prepare a list of tuples with gene names+descriptions and UIDs for next step\n",
    "genes = list()\n",
    "for ds in xds1:\n",
    "    name_descr = '{} : {}'.format( ds.find( 'Name' ).text, ds.find( 'Description' ).text )\n",
    "    uid = ds.get( 'uid' )\n",
    "    genes.append( ( name_descr, uid ) )"
   ]
  },
  {
   "cell_type": "markdown",
   "metadata": {},
   "source": [
    "#### Create a drop-down selector with names and descriptions of the retrieved genes:"
   ]
  },
  {
   "cell_type": "code",
   "execution_count": 6,
   "metadata": {},
   "outputs": [
    {
     "data": {
      "application/vnd.jupyter.widget-view+json": {
       "model_id": "30f0f9132bbd424db197aa4c2b1073d7",
       "version_major": 2,
       "version_minor": 0
      },
      "text/plain": [
       "Dropdown(description='Select a gene:', layout=Layout(width='50%'), options=(('TP53 : tumor protein p53', '7157…"
      ]
     },
     "metadata": {},
     "output_type": "display_data"
    }
   ],
   "source": [
    "gene_sel = wgt.Dropdown(\n",
    "    options=genes,\n",
    "    description='Select a gene:',\n",
    "    style={'description_width': 'initial'},\n",
    "    layout=wgt.Layout( width='50%' ),\n",
    "    disabled=False\n",
    ")\n",
    "\n",
    "display( gene_sel )"
   ]
  },
  {
   "cell_type": "markdown",
   "metadata": {},
   "source": [
    "#### Create a text area for entering SNP search terms, using the selected Gene ID from above as one of the filters:\n",
    "\n",
    "As an example, the SNP search string is preset to `((\"by frequency\"[Validation Status] AND \"snp clinvar\"[Filter]) AND <UID>[LocusLink ID]) AND 1000genomes[Submitter Handle]`, where `<UID>` is the Gene ID of the selected gene. The preset search terms specify a selection of SNP validated by frequency data, having been reported by the 1000Genomes project, having some defined clinical significance, and linked to the selected gene."
   ]
  },
  {
   "cell_type": "code",
   "execution_count": 7,
   "metadata": {},
   "outputs": [
    {
     "data": {
      "application/vnd.jupyter.widget-view+json": {
       "model_id": "b158ba086b1940e6aa39a89273ec4f76",
       "version_major": 2,
       "version_minor": 0
      },
      "text/plain": [
       "Textarea(value='((\"by frequency\"[Validation Status] AND \"snp clinvar\"[Filter]) AND 7157[LocusLink ID]) AND 100…"
      ]
     },
     "metadata": {},
     "output_type": "display_data"
    }
   ],
   "source": [
    "# Optional\n",
    "if verbose:\n",
    "    print( 'Selected Gene ID: {}'.format( gene_sel.value ) )\n",
    "\n",
    "search_term_input2 = wgt.Textarea(\n",
    "    value='((\"by frequency\"[Validation Status] AND \"snp clinvar\"[Filter]) AND {}[LocusLink ID]) AND 1000genomes[Submitter Handle]'.format( gene_sel.value ),\n",
    "    placeholder='SNP search term',\n",
    "    description='Enter SNP search terms:',\n",
    "    style={'description_width': 'initial'},\n",
    "    layout=wgt.Layout( width='60%' ),\n",
    "    disabled=False\n",
    ")\n",
    "\n",
    "display( search_term_input2 )"
   ]
  },
  {
   "cell_type": "markdown",
   "metadata": {},
   "source": [
    "#### Get the SNP search terms, use them to search the NCBI dbSNP database with eSearch:"
   ]
  },
  {
   "cell_type": "code",
   "execution_count": 8,
   "metadata": {},
   "outputs": [],
   "source": [
    "term2 = quote( search_term_input2.value )\n",
    "srch2 = requests.get( '{}/esearch.fcgi?db=snp&term={}&usehistory=y'.format( eutils_url, term2 ) )\n",
    "\n",
    "# Optional\n",
    "if verbose:\n",
    "    print( srch2.text )"
   ]
  },
  {
   "cell_type": "markdown",
   "metadata": {},
   "source": [
    "#### Parse the eSearch response to get the number of SNPs found and the location of search results:"
   ]
  },
  {
   "cell_type": "code",
   "execution_count": 9,
   "metadata": {},
   "outputs": [
    {
     "name": "stdout",
     "output_type": "stream",
     "text": [
      "Number of SNPs found: 87\n"
     ]
    }
   ],
   "source": [
    "xr2 = xtree.fromstring( srch2.text )\n",
    "web_env2 = xr2.find( './WebEnv' ).text\n",
    "qry_key2 = xr2.find( './QueryKey' ).text\n",
    "count2 = xr2.find( './Count' ).text\n",
    "print( 'Number of SNPs found: {}'.format( count2 ) )\n",
    "\n",
    "# Optional\n",
    "if verbose:\n",
    "    print( 'WebEnv:   {}'.format( web_env2 ) )\n",
    "    print( 'QueryKey: {}'.format( qry_key2 ) )"
   ]
  },
  {
   "cell_type": "markdown",
   "metadata": {},
   "source": [
    "#### Using eSummary get docsums for the SNPs in the result set, parse the docsums for RSIDs:"
   ]
  },
  {
   "cell_type": "code",
   "execution_count": 10,
   "metadata": {},
   "outputs": [],
   "source": [
    "# Get the first 500 SNP docsums\n",
    "sumr2 = requests.get( '{}/esummary.fcgi?db=snp&query_key={}&WebEnv={}&retmax=500'.format( eutils_url, qry_key2, web_env2 ) )\n",
    "xds2 = xtree.fromstring( sumr2.text ).findall( './/DocumentSummary' )\n",
    "\n",
    "# Optional\n",
    "if verbose:\n",
    "    print( 'SNP DocSums fetched: {}'.format( len( xds2 ) ) )\n",
    "\n",
    "snps = list()\n",
    "snp_dict = dict()\n",
    "for ds in xds2:\n",
    "    rsid = ds.get( 'uid' )\n",
    "    snps.append( ( 'rs'+rsid, rsid ) )\n",
    "    snp_dict[rsid] = ds"
   ]
  },
  {
   "cell_type": "markdown",
   "metadata": {},
   "source": [
    "#### Create a drop-down RSID selector: "
   ]
  },
  {
   "cell_type": "code",
   "execution_count": 11,
   "metadata": {},
   "outputs": [
    {
     "data": {
      "application/vnd.jupyter.widget-view+json": {
       "model_id": "b68b38da4f3e4ff4a092fb38f143c0f4",
       "version_major": 2,
       "version_minor": 0
      },
      "text/plain": [
       "Dropdown(description='Select a SNP:', options=(('rs1555523911', '1555523911'), ('rs576532147', '576532147'), (…"
      ]
     },
     "metadata": {},
     "output_type": "display_data"
    }
   ],
   "source": [
    "snp_sel = wgt.Dropdown(\n",
    "    options=snps,\n",
    "    description='Select a SNP:',\n",
    "    style={'description_width': 'initial'},\n",
    "    disabled=False\n",
    ")\n",
    "\n",
    "display( snp_sel )"
   ]
  },
  {
   "cell_type": "markdown",
   "metadata": {},
   "source": [
    "#### Parse the selected SNP's docsum to get its global MAF data:"
   ]
  },
  {
   "cell_type": "code",
   "execution_count": 12,
   "metadata": {},
   "outputs": [],
   "source": [
    "xrs = snp_dict[snp_sel.value]\n",
    "mafs = xrs.findall( './GLOBAL_MAFS/MAF' )\n",
    "rsid = xrs.get( 'uid' )\n",
    "\n",
    "# Optional\n",
    "if verbose:\n",
    "    print( 'Selected RSID: {}'.format( rsid ) )\n",
    "    print( 'Number of freq studies: {}'.format( len( mafs ) ) )\n",
    "\n",
    "studies = list()\n",
    "freqs = list()\n",
    "for xmaf in mafs:\n",
    "    study = xmaf.find( 'STUDY' ).text\n",
    "    freq = xmaf.find( 'FREQ' ).text\n",
    "    allele, maf, ac = re.split( '=|/', freq )\n",
    "    studies.append( study )\n",
    "    freqs.append( float( maf ) )"
   ]
  },
  {
   "cell_type": "markdown",
   "metadata": {},
   "source": [
    "#### Use `matplotlib` module to plot the global MAF data for the selected SNP:"
   ]
  },
  {
   "cell_type": "code",
   "execution_count": 13,
   "metadata": {},
   "outputs": [
    {
     "data": {
      "image/png": "[encoded data removed]",
      "text/plain": [
       "<Figure size 432x288 with 1 Axes>"
      ]
     },
     "metadata": {
      "needs_background": "light"
     },
     "output_type": "display_data"
    }
   ],
   "source": [
    "%matplotlib inline\n",
    "import matplotlib.pyplot as plt\n",
    "\n",
    "ypos = list( range( len( studies ) ) )\n",
    "plt.barh( ypos, freqs )\n",
    "plt.xlabel( 'Frequency', fontsize=14 )\n",
    "plt.ylabel( 'Study', fontsize=12 )\n",
    "plt.yticks( ypos, studies, fontsize=14 )\n",
    "plt.title( 'rs{}: Allele {} MAF'.format( rsid, allele ) )\n",
    "plt.show()"
   ]
  }
 ],
 "metadata": {
  "celltoolbar": "Raw Cell Format",
  "kernelspec": {
   "display_name": "Python 3",
   "language": "python",
   "name": "python3"
  },
  "language_info": {
   "codemirror_mode": {
    "name": "ipython",
    "version": 3
   },
   "file_extension": ".py",
   "mimetype": "text/x-python",
   "name": "python",
   "nbconvert_exporter": "python",
   "pygments_lexer": "ipython3",
   "version": "3.7.3"
  }
 },
 "nbformat": 4,
 "nbformat_minor": 2
}
